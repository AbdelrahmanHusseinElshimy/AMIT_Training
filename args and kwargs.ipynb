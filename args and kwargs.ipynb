{
 "cells": [
  {
   "cell_type": "markdown",
   "id": "6376a2b3",
   "metadata": {},
   "source": [
    "## *args"
   ]
  },
  {
   "cell_type": "code",
   "execution_count": 1,
   "id": "daf56757",
   "metadata": {},
   "outputs": [
    {
     "name": "stdout",
     "output_type": "stream",
     "text": [
      "Sum: 12\n",
      "Sum: 15\n"
     ]
    }
   ],
   "source": [
    "# add a sequence of numbers\n",
    "def add(*number):\n",
    "    \n",
    "    sum = 0 # initial value\n",
    "    \n",
    "    # for statement to sum numbers\n",
    "    for i in number:\n",
    "        sum = sum + i\n",
    "\n",
    "    print(\"Sum:\",sum) # print the result of sum\n",
    "\n",
    "add(4,8)\n",
    "add(1,6,8)"
   ]
  },
  {
   "cell_type": "markdown",
   "id": "58f1c327",
   "metadata": {},
   "source": [
    "## ** kwargs"
   ]
  },
  {
   "cell_type": "code",
   "execution_count": 3,
   "id": "a289928a",
   "metadata": {},
   "outputs": [
    {
     "name": "stdout",
     "output_type": "stream",
     "text": [
      "name is Abdo Elshimy\n",
      "Age is 22\n",
      "Phone is 1234567890\n"
     ]
    }
   ],
   "source": [
    "def data(**information):\n",
    "\n",
    "    for key, value in information.items():\n",
    "        print(\"{} is {}\".format(key,value))\n",
    "\n",
    "data(name=\"Abdo Elshimy\", Age=22, Phone=1234567890)"
   ]
  },
  {
   "cell_type": "code",
   "execution_count": null,
   "id": "11b91a58",
   "metadata": {},
   "outputs": [],
   "source": []
  }
 ],
 "metadata": {
  "kernelspec": {
   "display_name": "Python 3 (ipykernel)",
   "language": "python",
   "name": "python3"
  },
  "language_info": {
   "codemirror_mode": {
    "name": "ipython",
    "version": 3
   },
   "file_extension": ".py",
   "mimetype": "text/x-python",
   "name": "python",
   "nbconvert_exporter": "python",
   "pygments_lexer": "ipython3",
   "version": "3.9.12"
  }
 },
 "nbformat": 4,
 "nbformat_minor": 5
}
