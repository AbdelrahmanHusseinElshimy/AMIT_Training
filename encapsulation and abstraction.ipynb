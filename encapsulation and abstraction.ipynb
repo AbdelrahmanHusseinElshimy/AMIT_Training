{
 "cells": [
  {
   "cell_type": "code",
   "execution_count": 1,
   "id": "bb27d5b6",
   "metadata": {},
   "outputs": [
    {
     "name": "stdout",
     "output_type": "stream",
     "text": [
      "6\n",
      "2\n",
      "8\n"
     ]
    }
   ],
   "source": [
    "# class for calculator\n",
    "class Calculator():\n",
    "    \n",
    "     # function for intializing 2 numbers\n",
    "    def __init__(self,num1, num2):\n",
    "        self.num1 = num1\n",
    "        self.num2 = num2\n",
    "    \n",
    "    # function for adding 2 numbers\n",
    "    def add(self):\n",
    "        print(self.num1+self.num2)\n",
    "    \n",
    "     # function for sub 2 numbers\n",
    "    def sub(self):\n",
    "        print(self.num1-self.num2)\n",
    "    \n",
    "     # function for mul 2 numbers\n",
    "    def mul(self):\n",
    "        print(self.num1*self.num2)\n",
    "        \n",
    "# print result\n",
    "result=Calculator(4,2)\n",
    "\n",
    "result.add()\n",
    "result.sub()\n",
    "result.mul()"
   ]
  },
  {
   "cell_type": "code",
   "execution_count": 2,
   "id": "860cd8db",
   "metadata": {},
   "outputs": [
    {
     "name": "stdout",
     "output_type": "stream",
     "text": [
      "Driving with speed: 100\n",
      "my color is: red\n"
     ]
    },
    {
     "data": {
      "text/plain": [
       "'red'"
      ]
     },
     "execution_count": 2,
     "metadata": {},
     "output_type": "execute_result"
    }
   ],
   "source": [
    "# class for vehicle\n",
    "class Vehicle():\n",
    "    # function for initialization\n",
    "    def __init__(self, speed, color):\n",
    "        self.color = color\n",
    "        self.speed = speed\n",
    "    \n",
    "    # function for color\n",
    "    def what_color(self):\n",
    "        print('my color is: ' + self.color)\n",
    "        \n",
    "    # function for drive  \n",
    "    def drive(self):\n",
    "        print('Driving with speed: ' + str(self.speed))\n",
    "        \n",
    "hundai= Vehicle(100, 'red')\n",
    "\n",
    "hundai.drive()\n",
    "hundai.what_color()\n",
    "hundai.color"
   ]
  },
  {
   "cell_type": "code",
   "execution_count": null,
   "id": "41f3c563",
   "metadata": {},
   "outputs": [],
   "source": []
  }
 ],
 "metadata": {
  "kernelspec": {
   "display_name": "Python 3 (ipykernel)",
   "language": "python",
   "name": "python3"
  },
  "language_info": {
   "codemirror_mode": {
    "name": "ipython",
    "version": 3
   },
   "file_extension": ".py",
   "mimetype": "text/x-python",
   "name": "python",
   "nbconvert_exporter": "python",
   "pygments_lexer": "ipython3",
   "version": "3.9.12"
  }
 },
 "nbformat": 4,
 "nbformat_minor": 5
}
