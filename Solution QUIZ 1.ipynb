{
 "cells": [
  {
   "cell_type": "markdown",
   "metadata": {
    "collapsed": true
   },
   "source": [
    "# QUIZ\n",
    "Let's test your knowledge!"
   ]
  },
  {
   "cell_type": "markdown",
   "metadata": {},
   "source": [
    "_____\n",
    "**Use <code>for</code>, .split(), and <code>if</code> to create a Statement that will print out words that start with 's':**"
   ]
  },
  {
   "cell_type": "code",
   "execution_count": 1,
   "metadata": {},
   "outputs": [],
   "source": [
    "st = 'Print only the words that start with s in this sentence'"
   ]
  },
  {
   "cell_type": "code",
   "execution_count": 2,
   "metadata": {},
   "outputs": [
    {
     "name": "stdout",
     "output_type": "stream",
     "text": [
      "False\n",
      "False\n",
      "False\n",
      "False\n",
      "False\n",
      "False\n",
      "False\n",
      "TRUE\n",
      "False\n",
      "False\n",
      "False\n"
     ]
    }
   ],
   "source": [
    "# create a Statement that will print out words that start with 's'\n",
    "\n",
    "st=st.split() # split words in statement\n",
    "\n",
    "for word in st: \n",
    "    \n",
    "    # if condition for print true if  word 's' in statement\n",
    "    \n",
    "    if word == 's':\n",
    "        \n",
    "        print('TRUE') # if  word 's' in statement print true\n",
    "        \n",
    "    else:\n",
    "        \n",
    "        print('False') # if  word 's' not in statement print false"
   ]
  },
  {
   "cell_type": "markdown",
   "metadata": {},
   "source": [
    "______\n",
    "**Use range() to print all the even numbers from 0 to 10.**"
   ]
  },
  {
   "cell_type": "code",
   "execution_count": 3,
   "metadata": {},
   "outputs": [
    {
     "name": "stdout",
     "output_type": "stream",
     "text": [
      "0\n",
      "2\n",
      "4\n",
      "6\n",
      "8\n",
      "10\n"
     ]
    }
   ],
   "source": [
    "# create range from 0 to 10\n",
    "\n",
    "x=range(0,11)\n",
    "\n",
    "for num in x:\n",
    "    \n",
    "    # if statement for print even numbers \n",
    "    \n",
    "    if num%2==0:\n",
    "        print(num)"
   ]
  },
  {
   "cell_type": "markdown",
   "metadata": {},
   "source": [
    "___\n",
    "**Use a List Comprehension to create a list of all numbers between 1 and 50 that are divisible by 3.**"
   ]
  },
  {
   "cell_type": "code",
   "execution_count": 4,
   "metadata": {},
   "outputs": [
    {
     "data": {
      "text/plain": [
       "10"
      ]
     },
     "execution_count": 4,
     "metadata": {},
     "output_type": "execute_result"
    }
   ],
   "source": [
    "# create list Comprehension for all numbers between 1 and 50 that are divisible by 3\n",
    "\n",
    "st=[num for num in range(1,51)  if num%3==0]\n",
    "   \n",
    "num # print numbers are divisible by 3"
   ]
  },
  {
   "cell_type": "markdown",
   "metadata": {},
   "source": [
    "_____\n",
    "**Go through the string below and if the length of a word is even print \"even!\"**"
   ]
  },
  {
   "cell_type": "code",
   "execution_count": 5,
   "metadata": {},
   "outputs": [],
   "source": [
    "st = 'Print every word in this sentence that has an even number of letters'"
   ]
  },
  {
   "cell_type": "code",
   "execution_count": 6,
   "metadata": {},
   "outputs": [
    {
     "name": "stdout",
     "output_type": "stream",
     "text": [
      "False\n",
      "False\n",
      "even\n",
      "even\n",
      "even\n",
      "even\n",
      "even\n",
      "False\n",
      "even\n",
      "even\n",
      "even\n",
      "even\n",
      "False\n"
     ]
    }
   ],
   "source": [
    "# the length of a word is even print \"even\"\n",
    "\n",
    "st=st.split() # split words in statement\n",
    "\n",
    "for word in st:\n",
    "    \n",
    "    # if statement for print even for the length of a word is even \n",
    "    \n",
    "    if len(word)%2 == 0: \n",
    "        \n",
    "        print('even')\n",
    "        \n",
    "    else:\n",
    "        \n",
    "        print('False')"
   ]
  },
  {
   "cell_type": "markdown",
   "metadata": {},
   "source": [
    "____\n",
    "**Write a program that prints the integers from 1 to 100. But for multiples of three print \"Fizz\" instead of the number, and for the multiples of five print \"Buzz\". For numbers which are multiples of both three and five print \"FizzBuzz\".**"
   ]
  },
  {
   "cell_type": "code",
   "execution_count": 7,
   "metadata": {},
   "outputs": [
    {
     "name": "stdout",
     "output_type": "stream",
     "text": [
      "FizzBuzz\n",
      "none\n",
      "none\n",
      "Fizz\n",
      "none\n",
      "Buzz\n",
      "Fizz\n",
      "none\n",
      "none\n",
      "Fizz\n",
      "Buzz\n",
      "none\n",
      "Fizz\n",
      "none\n",
      "none\n",
      "FizzBuzz\n",
      "none\n",
      "none\n",
      "Fizz\n",
      "none\n",
      "Buzz\n",
      "Fizz\n",
      "none\n",
      "none\n",
      "Fizz\n",
      "Buzz\n",
      "none\n",
      "Fizz\n",
      "none\n",
      "none\n",
      "FizzBuzz\n",
      "none\n",
      "none\n",
      "Fizz\n",
      "none\n",
      "Buzz\n",
      "Fizz\n",
      "none\n",
      "none\n",
      "Fizz\n",
      "Buzz\n",
      "none\n",
      "Fizz\n",
      "none\n",
      "none\n",
      "FizzBuzz\n",
      "none\n",
      "none\n",
      "Fizz\n",
      "none\n",
      "Buzz\n",
      "Fizz\n",
      "none\n",
      "none\n",
      "Fizz\n",
      "Buzz\n",
      "none\n",
      "Fizz\n",
      "none\n",
      "none\n",
      "FizzBuzz\n",
      "none\n",
      "none\n",
      "Fizz\n",
      "none\n",
      "Buzz\n",
      "Fizz\n",
      "none\n",
      "none\n",
      "Fizz\n",
      "Buzz\n",
      "none\n",
      "Fizz\n",
      "none\n",
      "none\n",
      "FizzBuzz\n",
      "none\n",
      "none\n",
      "Fizz\n",
      "none\n",
      "Buzz\n",
      "Fizz\n",
      "none\n",
      "none\n",
      "Fizz\n",
      "Buzz\n",
      "none\n",
      "Fizz\n",
      "none\n",
      "none\n",
      "FizzBuzz\n",
      "none\n",
      "none\n",
      "Fizz\n",
      "none\n",
      "Buzz\n",
      "Fizz\n",
      "none\n",
      "none\n",
      "Fizz\n",
      "Buzz\n"
     ]
    }
   ],
   "source": [
    "# range from num 0 to 100\n",
    "\n",
    "x=range(0,101)\n",
    "\n",
    "for number in x:\n",
    "    \n",
    "    # if statement for multiples of both three and five print \"FizzBuzz\"\n",
    "    \n",
    "    if number%3==0 and number%5==0:\n",
    "        print('FizzBuzz')\n",
    "        \n",
    "    # if statement for multiples three print \"Fizz\"    \n",
    "        \n",
    "    elif number%3==0:\n",
    "        print('Fizz')\n",
    "        \n",
    "    # if statement for multiples five print \"Buzz\"    \n",
    "        \n",
    "    elif number%5==0:\n",
    "        print('Buzz')\n",
    "        \n",
    "    else:\n",
    "        print('none')"
   ]
  },
  {
   "cell_type": "markdown",
   "metadata": {},
   "source": [
    "____\n",
    "**Use List Comprehension to create a list of the first letters of every word in the string below:**"
   ]
  },
  {
   "cell_type": "code",
   "execution_count": 8,
   "metadata": {},
   "outputs": [],
   "source": [
    "st = 'Create a list of the first letters of every word in this string'"
   ]
  },
  {
   "cell_type": "code",
   "execution_count": 9,
   "metadata": {},
   "outputs": [
    {
     "data": {
      "text/plain": [
       "['C', 'a', 'l', 'o', 't', 'f', 'l', 'o', 'e', 'w', 'i', 't', 's']"
      ]
     },
     "execution_count": 9,
     "metadata": {},
     "output_type": "execute_result"
    }
   ],
   "source": [
    "# split words in statement\n",
    "st=st.split()\n",
    "\n",
    "# List Comprehension to create a list of the first letters of every word in the string\n",
    "\n",
    "st=[letter[0] for letter in st] \n",
    "st"
   ]
  },
  {
   "cell_type": "markdown",
   "metadata": {},
   "source": [
    "### Great Job!"
   ]
  }
 ],
 "metadata": {
  "kernelspec": {
   "display_name": "Python 3 (ipykernel)",
   "language": "python",
   "name": "python3"
  },
  "language_info": {
   "codemirror_mode": {
    "name": "ipython",
    "version": 3
   },
   "file_extension": ".py",
   "mimetype": "text/x-python",
   "name": "python",
   "nbconvert_exporter": "python",
   "pygments_lexer": "ipython3",
   "version": "3.9.12"
  }
 },
 "nbformat": 4,
 "nbformat_minor": 1
}
