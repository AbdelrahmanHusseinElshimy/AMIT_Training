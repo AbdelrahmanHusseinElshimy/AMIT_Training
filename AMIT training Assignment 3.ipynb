{
 "cells": [
  {
   "cell_type": "markdown",
   "metadata": {},
   "source": [
    "# Assignment 3"
   ]
  },
  {
   "cell_type": "markdown",
   "metadata": {},
   "source": [
    "### Write a function to count the number 4 in a given list."
   ]
  },
  {
   "cell_type": "code",
   "execution_count": 1,
   "metadata": {},
   "outputs": [
    {
     "name": "stdout",
     "output_type": "stream",
     "text": [
      "3\n"
     ]
    }
   ],
   "source": [
    "# Given list of numbers\n",
    "list=[1,4,2,3,6,4,5,4]\n",
    "\n",
    "# function to count the number 4\n",
    "def count():\n",
    "    print(list.count(4))\n",
    "\n",
    "# call the function\n",
    "count()"
   ]
  },
  {
   "cell_type": "markdown",
   "metadata": {},
   "source": [
    "### write a  function to check whether a number is divisible by another number."
   ]
  },
  {
   "cell_type": "code",
   "execution_count": 2,
   "metadata": {},
   "outputs": [
    {
     "name": "stdout",
     "output_type": "stream",
     "text": [
      "True\n"
     ]
    }
   ],
   "source": [
    "# constant for 2 number\n",
    "x=4\n",
    "y=2\n",
    "\n",
    "# function to check whether a number is divisible by another number\n",
    "def check(x,y):\n",
    "    print(x%y==0)\n",
    "    \n",
    "# call the function\n",
    "check(x,y)"
   ]
  },
  {
   "cell_type": "markdown",
   "metadata": {},
   "source": [
    "### write a function to find the maximum and minimum numbers from a sequence of numbers."
   ]
  },
  {
   "cell_type": "code",
   "execution_count": 3,
   "metadata": {},
   "outputs": [
    {
     "name": "stdout",
     "output_type": "stream",
     "text": [
      "the min number is 1 and the max number is 7\n"
     ]
    }
   ],
   "source": [
    "# list of sequence of numbers\n",
    "list=[1,2,7,6,3,4,5]\n",
    "\n",
    "# function to find the maximum and minimum numbers\n",
    "def find_max_min_num():\n",
    "    a=min(list)\n",
    "    b=max(list)\n",
    "    print(\"the min number is {} and the max number is {}\".format(a,b))\n",
    "    \n",
    "# call the function\n",
    "find_max_min_num()"
   ]
  },
  {
   "cell_type": "markdown",
   "metadata": {},
   "source": [
    "### Write a Python function that takes two lists and returns True if they have at least one common member."
   ]
  },
  {
   "cell_type": "code",
   "execution_count": 4,
   "metadata": {},
   "outputs": [
    {
     "name": "stdout",
     "output_type": "stream",
     "text": [
      "true\n"
     ]
    }
   ],
   "source": [
    "# two list of numbers\n",
    "list1=[1,3,4,5,6,2,9]\n",
    "list2=[2,7,8,4,5,6,7]\n",
    "\n",
    "# function that takes two lists and returns True if they have at least one common member\n",
    "def common_number():\n",
    "    # using for statement to check all numbers in list1 and list2\n",
    "    for number1 in list1:\n",
    "        \n",
    "        for number2 in list2:\n",
    "            \n",
    "            # if statement to check a common number in two lists\n",
    "            if number1 == number2:\n",
    "                print(\"true\")\n",
    "            break\n",
    "                \n",
    "# call the function\n",
    "common_number()"
   ]
  },
  {
   "cell_type": "markdown",
   "metadata": {},
   "source": [
    "### Write a Python function to calculate the factorial of a number (a non-negative integer). The function accepts the number from the user"
   ]
  },
  {
   "cell_type": "code",
   "execution_count": 8,
   "metadata": {},
   "outputs": [
    {
     "name": "stdout",
     "output_type": "stream",
     "text": [
      "please enter number= 4\n",
      "24\n"
     ]
    }
   ],
   "source": [
    "# function to calculate the factorial of a number\n",
    "def factorial():\n",
    "    \n",
    "    # make a user enter number\n",
    "    number=int(input('please enter number= '))\n",
    "    \n",
    "    factorial = 1 # initial value \n",
    "    \n",
    "    # if statement for check positive number\n",
    "    if number>0: \n",
    "        \n",
    "        # for statement for calculate factorial number\n",
    "        for i in range(1,number+1): \n",
    "            \n",
    "            factorial = factorial * i\n",
    "            \n",
    "        print(factorial)\n",
    "        \n",
    "    else:\n",
    "        \n",
    "        print('Error')  # error for any negative number\n",
    "        \n",
    "# call the function\n",
    "factorial()"
   ]
  },
  {
   "cell_type": "markdown",
   "metadata": {},
   "source": [
    "### Write a Python function to check whether a number is in a given range.\n",
    "\n",
    "### The range is from 3 to 11\n"
   ]
  },
  {
   "cell_type": "code",
   "execution_count": 5,
   "metadata": {},
   "outputs": [
    {
     "data": {
      "text/plain": [
       "True"
      ]
     },
     "execution_count": 5,
     "metadata": {},
     "output_type": "execute_result"
    }
   ],
   "source": [
    "# function to check whether a number is in a given range from 3 to 11\n",
    "def Range(number):\n",
    "    return number in range(3,12)\n",
    "\n",
    "# call the function\n",
    "Range(10)"
   ]
  },
  {
   "cell_type": "markdown",
   "metadata": {},
   "source": [
    "### Write a  program to create the multiplication table (from 1 to 10) of a number."
   ]
  },
  {
   "cell_type": "code",
   "execution_count": 3,
   "metadata": {},
   "outputs": [
    {
     "name": "stdout",
     "output_type": "stream",
     "text": [
      "multiblication table for number  1\n",
      "1  *  1  =  1\n",
      "1  *  2  =  2\n",
      "1  *  3  =  3\n",
      "1  *  4  =  4\n",
      "1  *  5  =  5\n",
      "1  *  6  =  6\n",
      "1  *  7  =  7\n",
      "1  *  8  =  8\n",
      "1  *  9  =  9\n",
      "1  *  10  =  10\n"
     ]
    }
   ],
   "source": [
    "# constant for number \n",
    "number=1\n",
    "\n",
    "print(\"multiblication table for number \",num)\n",
    "\n",
    "# for statment for create multiplication table\n",
    "for i in range(1,11):\n",
    "    \n",
    "    print(number,\" * \",i,\" = \", number*i)"
   ]
  },
  {
   "cell_type": "markdown",
   "metadata": {},
   "source": [
    "#### LESSER OF TWO EVENS: Write a function that returns the lesser of two given numbers *if* both numbers are even, but returns the greater if one or both numbers are odd\n",
    "    lesser_of_two_evens(2,4) --> 2\n",
    "    lesser_of_two_evens(2,5) --> 5"
   ]
  },
  {
   "cell_type": "code",
   "execution_count": 9,
   "metadata": {},
   "outputs": [
    {
     "data": {
      "text/plain": [
       "2"
      ]
     },
     "execution_count": 9,
     "metadata": {},
     "output_type": "execute_result"
    }
   ],
   "source": [
    "# given two numbers\n",
    "num1=2\n",
    "num2=4\n",
    "\n",
    "# if statement for  2 numbers is even \n",
    "if num1%2==0 and num2%2==0:\n",
    "    number= min(num1,num2)\n",
    "\n",
    "# if statement for one number is even     \n",
    "elif num1%2==0 or num2%2==0: \n",
    "    number= max(num1,num2) \n",
    "\n",
    "else:\n",
    "     number= max(num1,num2) \n",
    "        \n",
    "# function that returns the lesser of two given numbers if both numbers are even\n",
    "# but returns the greater if one or both numbers are odd\n",
    "def evenodd(number):\n",
    "    return number\n",
    "\n",
    "evenodd(number) "
   ]
  },
  {
   "cell_type": "code",
   "execution_count": 10,
   "metadata": {},
   "outputs": [
    {
     "data": {
      "text/plain": [
       "5"
      ]
     },
     "execution_count": 10,
     "metadata": {},
     "output_type": "execute_result"
    }
   ],
   "source": [
    "# given two numbers\n",
    "num1=2\n",
    "num2=5\n",
    "\n",
    "# if statement for  2 numbers is even \n",
    "if num1%2==0 and num2%2==0:\n",
    "    number= min(num1,num2)\n",
    "\n",
    "# if statement for one number is even     \n",
    "elif num1%2==0 or num2%2==0: \n",
    "    number= max(num1,num2) \n",
    "\n",
    "else:\n",
    "     number= max(num1,num2) \n",
    "        \n",
    "# function that returns the lesser of two given numbers if both numbers are even\n",
    "# but returns the greater if one or both numbers are odd\n",
    "def evenodd(number):\n",
    "    return number\n",
    "\n",
    "evenodd(number) "
   ]
  },
  {
   "cell_type": "code",
   "execution_count": null,
   "metadata": {},
   "outputs": [],
   "source": []
  }
 ],
 "metadata": {
  "kernelspec": {
   "display_name": "Python 3 (ipykernel)",
   "language": "python",
   "name": "python3"
  },
  "language_info": {
   "codemirror_mode": {
    "name": "ipython",
    "version": 3
   },
   "file_extension": ".py",
   "mimetype": "text/x-python",
   "name": "python",
   "nbconvert_exporter": "python",
   "pygments_lexer": "ipython3",
   "version": "3.9.12"
  }
 },
 "nbformat": 4,
 "nbformat_minor": 2
}
