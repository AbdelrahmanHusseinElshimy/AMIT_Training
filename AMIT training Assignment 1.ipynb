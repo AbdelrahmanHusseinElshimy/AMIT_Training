{
 "cells": [
  {
   "cell_type": "code",
   "execution_count": 1,
   "id": "e90aeb3a",
   "metadata": {},
   "outputs": [
    {
     "name": "stdout",
     "output_type": "stream",
     "text": [
      "please enter two numbers3   7\n",
      "result 10\n"
     ]
    }
   ],
   "source": [
    "# function to enter two separate numbers \n",
    "\n",
    "x,y=input('please enter two numbers').split()\n",
    "\n",
    "# convert two numbers in integer and sum it\n",
    "\n",
    "z=int(x)+int(y)\n",
    "\n",
    "# print the result for sum\n",
    "\n",
    "print('result',z)"
   ]
  },
  {
   "cell_type": "code",
   "execution_count": null,
   "id": "7034e1a9",
   "metadata": {},
   "outputs": [],
   "source": []
  },
  {
   "cell_type": "code",
   "execution_count": null,
   "id": "fb312e56",
   "metadata": {},
   "outputs": [],
   "source": []
  }
 ],
 "metadata": {
  "kernelspec": {
   "display_name": "Python 3 (ipykernel)",
   "language": "python",
   "name": "python3"
  },
  "language_info": {
   "codemirror_mode": {
    "name": "ipython",
    "version": 3
   },
   "file_extension": ".py",
   "mimetype": "text/x-python",
   "name": "python",
   "nbconvert_exporter": "python",
   "pygments_lexer": "ipython3",
   "version": "3.9.12"
  }
 },
 "nbformat": 4,
 "nbformat_minor": 5
}
